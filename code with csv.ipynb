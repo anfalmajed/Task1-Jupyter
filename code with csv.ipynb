{
 "cells": [
  {
   "cell_type": "code",
   "execution_count": 4,
   "id": "9d3ef2bd-82ef-4e03-9b63-cc07ff63f6c5",
   "metadata": {},
   "outputs": [],
   "source": [
    "import pandas as pd\n",
    "import chardet"
   ]
  },
  {
   "cell_type": "code",
   "execution_count": 5,
   "id": "90af02ac-095e-41d8-8349-d22abc928ebe",
   "metadata": {},
   "outputs": [
    {
     "name": "stdout",
     "output_type": "stream",
     "text": [
      "{'encoding': 'UTF-8-SIG', 'confidence': 1.0, 'language': ''}\n"
     ]
    }
   ],
   "source": [
    "file_path = \"C:\\\\Users\\\\User\\\\Downloads\\\\Employee Sample Data - Copy (1).csv\"\n",
    "with open(file_path, 'rb') as f:\n",
    "    result=chardet.detect(f.read())\n",
    "    print(result)\n",
    "    df = pd.read_csv(file_path, encoding=result['encoding'])"
   ]
  },
  {
   "cell_type": "code",
   "execution_count": 6,
   "id": "07a1c603-a034-43c8-9b4c-523043822dfb",
   "metadata": {},
   "outputs": [],
   "source": [
    "df.drop_duplicates(inplace = True)"
   ]
  },
  {
   "cell_type": "code",
   "execution_count": 7,
   "id": "eb63060a-bcf7-4314-8682-fb221aa00ba4",
   "metadata": {},
   "outputs": [
    {
     "name": "stderr",
     "output_type": "stream",
     "text": [
      "C:\\Users\\User\\AppData\\Local\\Temp\\ipykernel_8904\\213947142.py:1: FutureWarning: Setting an item of incompatible dtype is deprecated and will raise an error in a future version of pandas. Value 'not found' has dtype incompatible with float64, please explicitly cast to a compatible dtype first.\n",
      "  df.iloc[:5]= 'not found'\n"
     ]
    }
   ],
   "source": [
    "df.iloc[:5]= 'not found'"
   ]
  },
  {
   "cell_type": "markdown",
   "id": "2bd80ac5-064d-4ebe-bc96-81fc0aeec198",
   "metadata": {},
   "source": [
    "temp_column = pd.to_numeric(df['Annual Salary'],errors='coerce')\n",
    "max_salary_index=temp_column.idxmax()\n",
    "max_salary=temp_column.max()\n",
    "max_salary_row=df.loc[max_salary_index]\n",
    "print(f\"The largest salary={max_salary} \\n \\n\")\n",
    "print(max_salary_row)"
   ]
  },
  {
   "cell_type": "code",
   "execution_count": 8,
   "id": "38defdf8-8c2b-4f84-8003-d0e8040e7b14",
   "metadata": {},
   "outputs": [],
   "source": [
    "df.to_csv(\"C:\\\\Users\\\\User\\\\Downloads\\\\Employee with csv.csv\")"
   ]
  },
  {
   "cell_type": "code",
   "execution_count": null,
   "id": "adf568a9-f1f7-4884-9b0a-8636c40260f6",
   "metadata": {},
   "outputs": [],
   "source": []
  }
 ],
 "metadata": {
  "kernelspec": {
   "display_name": "Python 3 (ipykernel)",
   "language": "python",
   "name": "python3"
  },
  "language_info": {
   "codemirror_mode": {
    "name": "ipython",
    "version": 3
   },
   "file_extension": ".py",
   "mimetype": "text/x-python",
   "name": "python",
   "nbconvert_exporter": "python",
   "pygments_lexer": "ipython3",
   "version": "3.12.4"
  }
 },
 "nbformat": 4,
 "nbformat_minor": 5
}
